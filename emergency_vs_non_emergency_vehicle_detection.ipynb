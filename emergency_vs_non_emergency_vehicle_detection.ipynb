{
  "nbformat": 4,
  "nbformat_minor": 0,
  "metadata": {
    "colab": {
      "name": "emergency vs non emergency vehicle detection.ipynb",
      "provenance": [],
      "include_colab_link": true
    },
    "kernelspec": {
      "name": "python3",
      "display_name": "Python 3"
    },
    "accelerator": "GPU"
  },
  "cells": [
    {
      "cell_type": "markdown",
      "metadata": {
        "id": "view-in-github",
        "colab_type": "text"
      },
      "source": [
        "<a href=\"https://colab.research.google.com/github/NeerajSirvisetti/Transfer-Learning/blob/master/emergency_vs_non_emergency_vehicle_detection.ipynb\" target=\"_parent\"><img src=\"https://colab.research.google.com/assets/colab-badge.svg\" alt=\"Open In Colab\"/></a>"
      ]
    },
    {
      "cell_type": "code",
      "metadata": {
        "id": "UExSKQY8ZaB2",
        "colab_type": "code",
        "colab": {}
      },
      "source": [
        "from google.colab import drive\n",
        "drive.mount('/content/gdrive')"
      ],
      "execution_count": 0,
      "outputs": []
    },
    {
      "cell_type": "code",
      "metadata": {
        "id": "R5IAtacuZxEx",
        "colab_type": "code",
        "colab": {}
      },
      "source": [
        "# importing the libraries\n",
        "import pandas as pd\n",
        "import numpy as np\n",
        "from tqdm import tqdm\n",
        "\n",
        "# for reading and displaying images\n",
        "from skimage.io import imread\n",
        "from skimage.transform import resize\n",
        "import matplotlib.pyplot as plt\n",
        "%matplotlib inline\n",
        "\n",
        "# for creating validation set\n",
        "from sklearn.model_selection import train_test_split\n",
        "\n",
        "# for evaluating the model\n",
        "from sklearn.metrics import accuracy_score"
      ],
      "execution_count": 0,
      "outputs": []
    },
    {
      "cell_type": "code",
      "metadata": {
        "id": "WRCPtt67g2_W",
        "colab_type": "code",
        "colab": {}
      },
      "source": [
        "from keras.applications import vgg16\n",
        "from keras.models import Model\n",
        "import keras"
      ],
      "execution_count": 0,
      "outputs": []
    },
    {
      "cell_type": "code",
      "metadata": {
        "id": "p8drLu--hipd",
        "colab_type": "code",
        "colab": {}
      },
      "source": [
        "# loading dataset\n",
        "\n",
        "train = pd.read_csv('/content/gdrive/My Drive/emergency_vs_non-emergency_dataset/emergency_train.csv')\n",
        "train.head()"
      ],
      "execution_count": 0,
      "outputs": []
    },
    {
      "cell_type": "code",
      "metadata": {
        "id": "aqxqMgwAiX1I",
        "colab_type": "code",
        "colab": {}
      },
      "source": [
        "# defining the target\n",
        "train_y = train['emergency_or_not'].values"
      ],
      "execution_count": 0,
      "outputs": []
    },
    {
      "cell_type": "code",
      "metadata": {
        "id": "Vpaa1NRBhytt",
        "colab_type": "code",
        "colab": {}
      },
      "source": [
        "# loading training images\n",
        "train_img = []\n",
        "for img_name in tqdm(train['image_names']):\n",
        "    # defining the image path\n",
        "    image_path = '/content/gdrive/My Drive/emergency_vs_non-emergency_dataset/images/' + img_name\n",
        "    # reading the image\n",
        "    img = imread(image_path)\n",
        "    # normalizing the pixel values\n",
        "    img = img/255\n",
        "    # resizing the image to (224,224,3)\n",
        "    img = resize(img, output_shape=(224,224,3), mode='constant', anti_aliasing=True)\n",
        "    # converting the type of pixel to float 32\n",
        "    img = img.astype('float32')\n",
        "    # appending the image into the list\n",
        "    train_img.append(img)\n",
        "\n",
        "# converting the list to numpy array\n",
        "train_x = np.array(train_img)\n",
        "train_x.shape"
      ],
      "execution_count": 0,
      "outputs": []
    },
    {
      "cell_type": "code",
      "metadata": {
        "id": "fbjJQh4-jO7p",
        "colab_type": "code",
        "colab": {}
      },
      "source": [
        "# Exploring the data\n",
        "index = 12\n",
        "plt.imshow(train_x[index])\n",
        "if (train['emergency_or_not'][index] == 1):\n",
        "    print('It is an Emergency vehicle')\n",
        "else:\n",
        "    print('It is a Non-Emergency vehicle')"
      ],
      "execution_count": 0,
      "outputs": []
    },
    {
      "cell_type": "code",
      "metadata": {
        "id": "Di0PFF9mjzJ5",
        "colab_type": "code",
        "colab": {}
      },
      "source": [
        "# create validation set\n",
        "train_x, val_x, train_y, val_y = train_test_split(train_x, train_y, test_size = 0.1, random_state = 13, stratify=train_y)\n",
        "(train_x.shape, train_y.shape), (val_x.shape, val_y.shape)"
      ],
      "execution_count": 0,
      "outputs": []
    },
    {
      "cell_type": "code",
      "metadata": {
        "id": "_RYwpBIhj3MO",
        "colab_type": "code",
        "colab": {}
      },
      "source": [
        "batch_size = 128\n",
        "num_classes = 2\n",
        "epochs = 30\n",
        "input_shape = (224, 224, 3)"
      ],
      "execution_count": 0,
      "outputs": []
    },
    {
      "cell_type": "code",
      "metadata": {
        "id": "SaVA0SEHj7Gx",
        "colab_type": "code",
        "colab": {}
      },
      "source": [
        "#Model 1 - Basic CNN\n",
        "from keras.layers import Conv2D, MaxPooling2D, Flatten, Dense, Dropout\n",
        "from keras.models import Sequential\n",
        "from keras import optimizers\n",
        "\n",
        "model1 = Sequential()\n",
        "\n",
        "model1.add(Conv2D(16, kernel_size=(3, 3), activation='relu', \n",
        "                 input_shape=input_shape))\n",
        "model1.add(MaxPooling2D(pool_size=(2, 2)))\n",
        "\n",
        "model1.add(Conv2D(64, kernel_size=(3, 3), activation='relu'))\n",
        "model1.add(MaxPooling2D(pool_size=(2, 2)))\n",
        "\n",
        "model1.add(Conv2D(128, kernel_size=(3, 3), activation='relu'))\n",
        "model1.add(MaxPooling2D(pool_size=(2, 2)))\n",
        "\n",
        "model1.add(Flatten())\n",
        "model1.add(Dense(512, activation='relu'))\n",
        "model1.add(Dense(1, activation='sigmoid'))\n",
        "\n",
        "\n",
        "model1.compile(loss='binary_crossentropy',\n",
        "              optimizer=optimizers.RMSprop(),\n",
        "              metrics=['accuracy'])\n",
        "\n",
        "model1.summary()"
      ],
      "execution_count": 0,
      "outputs": []
    },
    {
      "cell_type": "code",
      "metadata": {
        "id": "nlHuD5rAmeWf",
        "colab_type": "code",
        "colab": {}
      },
      "source": [
        "!pip install pydot"
      ],
      "execution_count": 0,
      "outputs": []
    },
    {
      "cell_type": "code",
      "metadata": {
        "id": "sq6I7pd3me_L",
        "colab_type": "code",
        "colab": {}
      },
      "source": [
        "from IPython.display import SVG\n",
        "from keras.utils.vis_utils import model_to_dot\n",
        "\n",
        "SVG(model_to_dot(model1, show_shapes=True, \n",
        "                 show_layer_names=True, rankdir='TB').create(prog='dot', format='svg'))"
      ],
      "execution_count": 0,
      "outputs": []
    },
    {
      "cell_type": "code",
      "metadata": {
        "id": "20PAQRpEmhha",
        "colab_type": "code",
        "colab": {}
      },
      "source": [
        "history = model1.fit(x=train_x, y=train_y,\n",
        "                    validation_data=(val_x, val_y),\n",
        "                    batch_size=30,\n",
        "                    epochs=epochs,\n",
        "                    verbose=1)"
      ],
      "execution_count": 0,
      "outputs": []
    },
    {
      "cell_type": "code",
      "metadata": {
        "id": "ctIKCSnUmpmE",
        "colab_type": "code",
        "colab": {}
      },
      "source": [
        "f, (ax1, ax2) = plt.subplots(1, 2, figsize=(12, 4))\n",
        "t = f.suptitle('Basic CNN Performance', fontsize=12)\n",
        "f.subplots_adjust(top=0.85, wspace=0.3)\n",
        "\n",
        "epoch_list = list(range(1,31))\n",
        "ax1.plot(epoch_list, history.history['acc'], label='Train Accuracy')\n",
        "ax1.plot(epoch_list, history.history['val_acc'], label='Validation Accuracy')\n",
        "ax1.set_xticks(np.arange(0, 31, 5))\n",
        "ax1.set_ylabel('Accuracy Value')\n",
        "ax1.set_xlabel('Epoch')\n",
        "ax1.set_title('Accuracy')\n",
        "l1 = ax1.legend(loc=\"best\")\n",
        "\n",
        "ax2.plot(epoch_list, history.history['loss'], label='Train Loss')\n",
        "ax2.plot(epoch_list, history.history['val_loss'], label='Validation Loss')\n",
        "ax2.set_xticks(np.arange(0, 31, 5))\n",
        "ax2.set_ylabel('Loss Value')\n",
        "ax2.set_xlabel('Epoch')\n",
        "ax2.set_title('Loss')\n",
        "l2 = ax2.legend(loc=\"best\")"
      ],
      "execution_count": 0,
      "outputs": []
    },
    {
      "cell_type": "code",
      "metadata": {
        "id": "6g5F4F5Fmz4y",
        "colab_type": "code",
        "colab": {}
      },
      "source": [
        "#Model2\n",
        "model2 = Sequential()\n",
        "\n",
        "model2.add(Conv2D(16, kernel_size=(3, 3), activation='relu', \n",
        "                 input_shape=input_shape))\n",
        "model2.add(MaxPooling2D(pool_size=(2, 2)))\n",
        "\n",
        "model2.add(Conv2D(64, kernel_size=(3, 3), activation='relu'))\n",
        "model2.add(MaxPooling2D(pool_size=(2, 2)))\n",
        "\n",
        "model2.add(Conv2D(128, kernel_size=(3, 3), activation='relu'))\n",
        "model2.add(MaxPooling2D(pool_size=(2, 2)))\n",
        "\n",
        "model2.add(Conv2D(128, kernel_size=(3, 3), activation='relu'))\n",
        "model2.add(MaxPooling2D(pool_size=(2, 2)))\n",
        "\n",
        "model2.add(Flatten())\n",
        "model2.add(Dense(512, activation='relu'))\n",
        "model2.add(Dropout(0.3))\n",
        "model2.add(Dense(512, activation='relu'))\n",
        "model2.add(Dropout(0.3))\n",
        "model2.add(Dense(1, activation='sigmoid'))\n",
        "\n",
        "\n",
        "model2.compile(loss='binary_crossentropy',\n",
        "              optimizer=optimizers.RMSprop(),\n",
        "              metrics=['accuracy'])\n",
        "\n",
        "model2.summary()"
      ],
      "execution_count": 0,
      "outputs": []
    },
    {
      "cell_type": "code",
      "metadata": {
        "id": "BBf5zorUoyAT",
        "colab_type": "code",
        "colab": {}
      },
      "source": [
        "history2 = model2.fit(x=train_x, y=train_y,\n",
        "                    validation_data=(val_x, val_y),\n",
        "                    batch_size=batch_size,\n",
        "                    epochs=epochs,\n",
        "                    verbose=1)"
      ],
      "execution_count": 0,
      "outputs": []
    },
    {
      "cell_type": "code",
      "metadata": {
        "id": "U5r9Vh7ko11v",
        "colab_type": "code",
        "colab": {}
      },
      "source": [
        "f, (ax1, ax2) = plt.subplots(1, 2, figsize=(12, 4))\n",
        "t = f.suptitle('Basic CNN 2 Performance', fontsize=12)\n",
        "f.subplots_adjust(top=0.85, wspace=0.3)\n",
        "\n",
        "epoch_list = list(range(1,31))\n",
        "ax1.plot(epoch_list, history2.history['acc'], label='Train Accuracy')\n",
        "ax1.plot(epoch_list, history2.history['val_acc'], label='Validation Accuracy')\n",
        "ax1.set_xticks(np.arange(0, 31, 5))\n",
        "ax1.set_ylabel('Accuracy Value')\n",
        "ax1.set_xlabel('Epoch')\n",
        "ax1.set_title('Accuracy')\n",
        "l1 = ax1.legend(loc=\"best\")\n",
        "\n",
        "ax2.plot(epoch_list, history2.history['loss'], label='Train Loss')\n",
        "ax2.plot(epoch_list, history2.history['val_loss'], label='Validation Loss')\n",
        "ax2.set_xticks(np.arange(0, 31, 5))\n",
        "ax2.set_ylabel('Loss Value')\n",
        "ax2.set_xlabel('Epoch')\n",
        "ax2.set_title('Loss')\n",
        "l2 = ax2.legend(loc=\"best\")"
      ],
      "execution_count": 0,
      "outputs": []
    },
    {
      "cell_type": "markdown",
      "metadata": {
        "id": "JtG2HGgjpNJy",
        "colab_type": "text"
      },
      "source": [
        "# Model of CNN with augmentation"
      ]
    },
    {
      "cell_type": "code",
      "metadata": {
        "id": "AMpQQPRupC2v",
        "colab_type": "code",
        "colab": {}
      },
      "source": [
        "from keras.preprocessing.image import ImageDataGenerator\n",
        "train_datagen = ImageDataGenerator(rescale=1./255, zoom_range=0.3, rotation_range=50,\n",
        "                                   width_shift_range=0.2, height_shift_range=0.2, shear_range=0.2, \n",
        "                                   horizontal_flip=True, fill_mode='nearest')\n",
        "\n",
        "val_datagen = ImageDataGenerator(rescale=1./255)"
      ],
      "execution_count": 0,
      "outputs": []
    },
    {
      "cell_type": "code",
      "metadata": {
        "id": "p7AYuvjZpRYH",
        "colab_type": "code",
        "colab": {}
      },
      "source": [
        "train_generator = train_datagen.flow(train_x, train_y, batch_size=30)\n",
        "val_generator = val_datagen.flow(val_x, val_y, batch_size=20)"
      ],
      "execution_count": 0,
      "outputs": []
    },
    {
      "cell_type": "code",
      "metadata": {
        "id": "KJPJUhTxp2wL",
        "colab_type": "code",
        "colab": {}
      },
      "source": [
        "from keras.layers import Conv2D, MaxPooling2D, Flatten, Dense, Dropout\n",
        "from keras.models import Sequential\n",
        "from keras import optimizers\n",
        "\n",
        "model3 = Sequential()\n",
        "\n",
        "model3.add(Conv2D(16, kernel_size=(3, 3), activation='relu', \n",
        "                 input_shape=input_shape))\n",
        "model3.add(MaxPooling2D(pool_size=(2, 2)))\n",
        "\n",
        "model3.add(Conv2D(64, kernel_size=(3, 3), activation='relu'))\n",
        "model3.add(MaxPooling2D(pool_size=(2, 2)))\n",
        "\n",
        "model3.add(Conv2D(128, kernel_size=(3, 3), activation='relu'))\n",
        "model3.add(MaxPooling2D(pool_size=(2, 2)))\n",
        "\n",
        "model3.add(Conv2D(128, kernel_size=(3, 3), activation='relu'))\n",
        "model3.add(MaxPooling2D(pool_size=(2, 2)))\n",
        "\n",
        "model3.add(Flatten())\n",
        "model3.add(Dense(512, activation='relu'))\n",
        "model3.add(Dropout(0.3))\n",
        "model3.add(Dense(512, activation='relu'))\n",
        "model3.add(Dropout(0.3))\n",
        "model3.add(Dense(1, activation='sigmoid'))\n",
        "\n",
        "\n",
        "model3.compile(loss='binary_crossentropy',\n",
        "              optimizer=optimizers.RMSprop(lr=1e-4),\n",
        "              metrics=['accuracy'])\n",
        "\n",
        "model3.summary()"
      ],
      "execution_count": 0,
      "outputs": []
    },
    {
      "cell_type": "code",
      "metadata": {
        "id": "L31Afd41psos",
        "colab_type": "code",
        "colab": {}
      },
      "source": [
        "history3 = model3.fit_generator(train_generator, steps_per_epoch=100, epochs=100,\n",
        "                              validation_data=val_generator, validation_steps=50, verbose=1)"
      ],
      "execution_count": 0,
      "outputs": []
    },
    {
      "cell_type": "code",
      "metadata": {
        "id": "wHOUD63hpwuq",
        "colab_type": "code",
        "colab": {}
      },
      "source": [
        "f, (ax1, ax2) = plt.subplots(1, 2, figsize=(12, 4))\n",
        "t = f.suptitle('CNN with Image Augmentation Performance', fontsize=12)\n",
        "f.subplots_adjust(top=0.85, wspace=0.3)\n",
        "\n",
        "epoch_list = list(range(1,101))\n",
        "ax1.plot(epoch_list, history3.history['acc'], label='Train Accuracy')\n",
        "ax1.plot(epoch_list, history3.history['val_acc'], label='Validation Accuracy')\n",
        "ax1.set_xticks(np.arange(0, 101, 10))\n",
        "ax1.set_ylabel('Accuracy Value')\n",
        "ax1.set_xlabel('Epoch')\n",
        "ax1.set_title('Accuracy')\n",
        "l1 = ax1.legend(loc=\"best\")\n",
        "\n",
        "ax2.plot(epoch_list, history3.history['loss'], label='Train Loss')\n",
        "ax2.plot(epoch_list, history3.history['val_loss'], label='Validation Loss')\n",
        "ax2.set_xticks(np.arange(0, 101, 10))\n",
        "ax2.set_ylabel('Loss Value')\n",
        "ax2.set_xlabel('Epoch')\n",
        "ax2.set_title('Loss')\n",
        "l2 = ax2.legend(loc=\"best\")"
      ],
      "execution_count": 0,
      "outputs": []
    },
    {
      "cell_type": "code",
      "metadata": {
        "id": "icj1tw-ZUsx-",
        "colab_type": "code",
        "colab": {}
      },
      "source": [
        "model3.save('emergency_non_cnn_img_aug.h5')"
      ],
      "execution_count": 0,
      "outputs": []
    },
    {
      "cell_type": "code",
      "metadata": {
        "id": "545PmX9PUyDm",
        "colab_type": "code",
        "colab": {
          "base_uri": "https://localhost:8080/",
          "height": 857
        },
        "outputId": "e2424af8-6dfe-4997-dbdb-02785412d706"
      },
      "source": [
        "from keras.applications import vgg16\n",
        "from keras.models import Model\n",
        "import keras\n",
        "\n",
        "vgg = vgg16.VGG16(include_top=False, weights='imagenet', \n",
        "                                     input_shape=input_shape)\n",
        "\n",
        "output = vgg.layers[-1].output\n",
        "output = keras.layers.Flatten()(output)\n",
        "\n",
        "vgg_model = Model(vgg.input, output)\n",
        "vgg_model.trainable = False\n",
        "\n",
        "for layer in vgg_model.layers:\n",
        "    layer.trainable = False\n",
        "\n",
        "vgg_model.summary()"
      ],
      "execution_count": 27,
      "outputs": [
        {
          "output_type": "stream",
          "text": [
            "Downloading data from https://github.com/fchollet/deep-learning-models/releases/download/v0.1/vgg16_weights_tf_dim_ordering_tf_kernels_notop.h5\n",
            "58892288/58889256 [==============================] - 6s 0us/step\n",
            "Model: \"model_1\"\n",
            "_________________________________________________________________\n",
            "Layer (type)                 Output Shape              Param #   \n",
            "=================================================================\n",
            "input_1 (InputLayer)         (None, 224, 224, 3)       0         \n",
            "_________________________________________________________________\n",
            "block1_conv1 (Conv2D)        (None, 224, 224, 64)      1792      \n",
            "_________________________________________________________________\n",
            "block1_conv2 (Conv2D)        (None, 224, 224, 64)      36928     \n",
            "_________________________________________________________________\n",
            "block1_pool (MaxPooling2D)   (None, 112, 112, 64)      0         \n",
            "_________________________________________________________________\n",
            "block2_conv1 (Conv2D)        (None, 112, 112, 128)     73856     \n",
            "_________________________________________________________________\n",
            "block2_conv2 (Conv2D)        (None, 112, 112, 128)     147584    \n",
            "_________________________________________________________________\n",
            "block2_pool (MaxPooling2D)   (None, 56, 56, 128)       0         \n",
            "_________________________________________________________________\n",
            "block3_conv1 (Conv2D)        (None, 56, 56, 256)       295168    \n",
            "_________________________________________________________________\n",
            "block3_conv2 (Conv2D)        (None, 56, 56, 256)       590080    \n",
            "_________________________________________________________________\n",
            "block3_conv3 (Conv2D)        (None, 56, 56, 256)       590080    \n",
            "_________________________________________________________________\n",
            "block3_pool (MaxPooling2D)   (None, 28, 28, 256)       0         \n",
            "_________________________________________________________________\n",
            "block4_conv1 (Conv2D)        (None, 28, 28, 512)       1180160   \n",
            "_________________________________________________________________\n",
            "block4_conv2 (Conv2D)        (None, 28, 28, 512)       2359808   \n",
            "_________________________________________________________________\n",
            "block4_conv3 (Conv2D)        (None, 28, 28, 512)       2359808   \n",
            "_________________________________________________________________\n",
            "block4_pool (MaxPooling2D)   (None, 14, 14, 512)       0         \n",
            "_________________________________________________________________\n",
            "block5_conv1 (Conv2D)        (None, 14, 14, 512)       2359808   \n",
            "_________________________________________________________________\n",
            "block5_conv2 (Conv2D)        (None, 14, 14, 512)       2359808   \n",
            "_________________________________________________________________\n",
            "block5_conv3 (Conv2D)        (None, 14, 14, 512)       2359808   \n",
            "_________________________________________________________________\n",
            "block5_pool (MaxPooling2D)   (None, 7, 7, 512)         0         \n",
            "_________________________________________________________________\n",
            "flatten_4 (Flatten)          (None, 25088)             0         \n",
            "=================================================================\n",
            "Total params: 14,714,688\n",
            "Trainable params: 0\n",
            "Non-trainable params: 14,714,688\n",
            "_________________________________________________________________\n"
          ],
          "name": "stdout"
        }
      ]
    },
    {
      "cell_type": "code",
      "metadata": {
        "id": "Ixs3hukJU0zk",
        "colab_type": "code",
        "colab": {
          "base_uri": "https://localhost:8080/",
          "height": 639
        },
        "outputId": "76b7aeae-4f48-4c0f-b13b-f842b752f0df"
      },
      "source": [
        "pd.set_option('max_colwidth', -1)\n",
        "\n",
        "layers = [(layer, layer.name, layer.trainable) for layer in vgg_model.layers]\n",
        "pd.DataFrame(layers, columns=['Layer Type', 'Layer Name', 'Layer Trainable'])"
      ],
      "execution_count": 28,
      "outputs": [
        {
          "output_type": "execute_result",
          "data": {
            "text/html": [
              "<div>\n",
              "<style scoped>\n",
              "    .dataframe tbody tr th:only-of-type {\n",
              "        vertical-align: middle;\n",
              "    }\n",
              "\n",
              "    .dataframe tbody tr th {\n",
              "        vertical-align: top;\n",
              "    }\n",
              "\n",
              "    .dataframe thead th {\n",
              "        text-align: right;\n",
              "    }\n",
              "</style>\n",
              "<table border=\"1\" class=\"dataframe\">\n",
              "  <thead>\n",
              "    <tr style=\"text-align: right;\">\n",
              "      <th></th>\n",
              "      <th>Layer Type</th>\n",
              "      <th>Layer Name</th>\n",
              "      <th>Layer Trainable</th>\n",
              "    </tr>\n",
              "  </thead>\n",
              "  <tbody>\n",
              "    <tr>\n",
              "      <th>0</th>\n",
              "      <td>&lt;keras.engine.input_layer.InputLayer object at 0x7fb6f18c7ba8&gt;</td>\n",
              "      <td>input_1</td>\n",
              "      <td>False</td>\n",
              "    </tr>\n",
              "    <tr>\n",
              "      <th>1</th>\n",
              "      <td>&lt;keras.layers.convolutional.Conv2D object at 0x7fb6f1872898&gt;</td>\n",
              "      <td>block1_conv1</td>\n",
              "      <td>False</td>\n",
              "    </tr>\n",
              "    <tr>\n",
              "      <th>2</th>\n",
              "      <td>&lt;keras.layers.convolutional.Conv2D object at 0x7fb6f1872b70&gt;</td>\n",
              "      <td>block1_conv2</td>\n",
              "      <td>False</td>\n",
              "    </tr>\n",
              "    <tr>\n",
              "      <th>3</th>\n",
              "      <td>&lt;keras.layers.pooling.MaxPooling2D object at 0x7fb6f1794b70&gt;</td>\n",
              "      <td>block1_pool</td>\n",
              "      <td>False</td>\n",
              "    </tr>\n",
              "    <tr>\n",
              "      <th>4</th>\n",
              "      <td>&lt;keras.layers.convolutional.Conv2D object at 0x7fb6f17a5438&gt;</td>\n",
              "      <td>block2_conv1</td>\n",
              "      <td>False</td>\n",
              "    </tr>\n",
              "    <tr>\n",
              "      <th>5</th>\n",
              "      <td>&lt;keras.layers.convolutional.Conv2D object at 0x7fb6f17cabe0&gt;</td>\n",
              "      <td>block2_conv2</td>\n",
              "      <td>False</td>\n",
              "    </tr>\n",
              "    <tr>\n",
              "      <th>6</th>\n",
              "      <td>&lt;keras.layers.pooling.MaxPooling2D object at 0x7fb6f17d0a58&gt;</td>\n",
              "      <td>block2_pool</td>\n",
              "      <td>False</td>\n",
              "    </tr>\n",
              "    <tr>\n",
              "      <th>7</th>\n",
              "      <td>&lt;keras.layers.convolutional.Conv2D object at 0x7fb6f175a978&gt;</td>\n",
              "      <td>block3_conv1</td>\n",
              "      <td>False</td>\n",
              "    </tr>\n",
              "    <tr>\n",
              "      <th>8</th>\n",
              "      <td>&lt;keras.layers.convolutional.Conv2D object at 0x7fb6f175b1d0&gt;</td>\n",
              "      <td>block3_conv2</td>\n",
              "      <td>False</td>\n",
              "    </tr>\n",
              "    <tr>\n",
              "      <th>9</th>\n",
              "      <td>&lt;keras.layers.convolutional.Conv2D object at 0x7fb6f17675c0&gt;</td>\n",
              "      <td>block3_conv3</td>\n",
              "      <td>False</td>\n",
              "    </tr>\n",
              "    <tr>\n",
              "      <th>10</th>\n",
              "      <td>&lt;keras.layers.pooling.MaxPooling2D object at 0x7fb6f176ca58&gt;</td>\n",
              "      <td>block3_pool</td>\n",
              "      <td>False</td>\n",
              "    </tr>\n",
              "    <tr>\n",
              "      <th>11</th>\n",
              "      <td>&lt;keras.layers.convolutional.Conv2D object at 0x7fb6f177a898&gt;</td>\n",
              "      <td>block4_conv1</td>\n",
              "      <td>False</td>\n",
              "    </tr>\n",
              "    <tr>\n",
              "      <th>12</th>\n",
              "      <td>&lt;keras.layers.convolutional.Conv2D object at 0x7fb6f177aeb8&gt;</td>\n",
              "      <td>block4_conv2</td>\n",
              "      <td>False</td>\n",
              "    </tr>\n",
              "    <tr>\n",
              "      <th>13</th>\n",
              "      <td>&lt;keras.layers.convolutional.Conv2D object at 0x7fb6f1787128&gt;</td>\n",
              "      <td>block4_conv3</td>\n",
              "      <td>False</td>\n",
              "    </tr>\n",
              "    <tr>\n",
              "      <th>14</th>\n",
              "      <td>&lt;keras.layers.pooling.MaxPooling2D object at 0x7fb6f178c978&gt;</td>\n",
              "      <td>block4_pool</td>\n",
              "      <td>False</td>\n",
              "    </tr>\n",
              "    <tr>\n",
              "      <th>15</th>\n",
              "      <td>&lt;keras.layers.convolutional.Conv2D object at 0x7fb6f171c7b8&gt;</td>\n",
              "      <td>block5_conv1</td>\n",
              "      <td>False</td>\n",
              "    </tr>\n",
              "    <tr>\n",
              "      <th>16</th>\n",
              "      <td>&lt;keras.layers.convolutional.Conv2D object at 0x7fb6f171ccc0&gt;</td>\n",
              "      <td>block5_conv2</td>\n",
              "      <td>False</td>\n",
              "    </tr>\n",
              "    <tr>\n",
              "      <th>17</th>\n",
              "      <td>&lt;keras.layers.convolutional.Conv2D object at 0x7fb6f1721e48&gt;</td>\n",
              "      <td>block5_conv3</td>\n",
              "      <td>False</td>\n",
              "    </tr>\n",
              "    <tr>\n",
              "      <th>18</th>\n",
              "      <td>&lt;keras.layers.pooling.MaxPooling2D object at 0x7fb6f172e898&gt;</td>\n",
              "      <td>block5_pool</td>\n",
              "      <td>False</td>\n",
              "    </tr>\n",
              "    <tr>\n",
              "      <th>19</th>\n",
              "      <td>&lt;keras.layers.core.Flatten object at 0x7fb6f12b4c88&gt;</td>\n",
              "      <td>flatten_4</td>\n",
              "      <td>False</td>\n",
              "    </tr>\n",
              "  </tbody>\n",
              "</table>\n",
              "</div>"
            ],
            "text/plain": [
              "                                                        Layer Type  ... Layer Trainable\n",
              "0   <keras.engine.input_layer.InputLayer object at 0x7fb6f18c7ba8>  ...  False         \n",
              "1   <keras.layers.convolutional.Conv2D object at 0x7fb6f1872898>    ...  False         \n",
              "2   <keras.layers.convolutional.Conv2D object at 0x7fb6f1872b70>    ...  False         \n",
              "3   <keras.layers.pooling.MaxPooling2D object at 0x7fb6f1794b70>    ...  False         \n",
              "4   <keras.layers.convolutional.Conv2D object at 0x7fb6f17a5438>    ...  False         \n",
              "5   <keras.layers.convolutional.Conv2D object at 0x7fb6f17cabe0>    ...  False         \n",
              "6   <keras.layers.pooling.MaxPooling2D object at 0x7fb6f17d0a58>    ...  False         \n",
              "7   <keras.layers.convolutional.Conv2D object at 0x7fb6f175a978>    ...  False         \n",
              "8   <keras.layers.convolutional.Conv2D object at 0x7fb6f175b1d0>    ...  False         \n",
              "9   <keras.layers.convolutional.Conv2D object at 0x7fb6f17675c0>    ...  False         \n",
              "10  <keras.layers.pooling.MaxPooling2D object at 0x7fb6f176ca58>    ...  False         \n",
              "11  <keras.layers.convolutional.Conv2D object at 0x7fb6f177a898>    ...  False         \n",
              "12  <keras.layers.convolutional.Conv2D object at 0x7fb6f177aeb8>    ...  False         \n",
              "13  <keras.layers.convolutional.Conv2D object at 0x7fb6f1787128>    ...  False         \n",
              "14  <keras.layers.pooling.MaxPooling2D object at 0x7fb6f178c978>    ...  False         \n",
              "15  <keras.layers.convolutional.Conv2D object at 0x7fb6f171c7b8>    ...  False         \n",
              "16  <keras.layers.convolutional.Conv2D object at 0x7fb6f171ccc0>    ...  False         \n",
              "17  <keras.layers.convolutional.Conv2D object at 0x7fb6f1721e48>    ...  False         \n",
              "18  <keras.layers.pooling.MaxPooling2D object at 0x7fb6f172e898>    ...  False         \n",
              "19  <keras.layers.core.Flatten object at 0x7fb6f12b4c88>            ...  False         \n",
              "\n",
              "[20 rows x 3 columns]"
            ]
          },
          "metadata": {
            "tags": []
          },
          "execution_count": 28
        }
      ]
    },
    {
      "cell_type": "code",
      "metadata": {
        "id": "iFDBDHhuU3eL",
        "colab_type": "code",
        "colab": {}
      },
      "source": [
        "def get_bottleneck_features(models, input_imgs):\n",
        "    \n",
        "    features = models.predict(input_imgs, verbose=0)\n",
        "    return features"
      ],
      "execution_count": 0,
      "outputs": []
    },
    {
      "cell_type": "code",
      "metadata": {
        "id": "58u2J46lU5YY",
        "colab_type": "code",
        "colab": {
          "base_uri": "https://localhost:8080/",
          "height": 34
        },
        "outputId": "0ef46104-675c-45ba-d03d-58835dbc513f"
      },
      "source": [
        "train_features_vgg = get_bottleneck_features(vgg_model, train_x)\n",
        "validation_features_vgg = get_bottleneck_features(vgg_model, val_x)\n",
        "\n",
        "print('Train Bottleneck Features:', train_features_vgg.shape, \n",
        "      '\\tValidation Bottleneck Features:', validation_features_vgg.shape)"
      ],
      "execution_count": 30,
      "outputs": [
        {
          "output_type": "stream",
          "text": [
            "Train Bottleneck Features: (1481, 25088) \tValidation Bottleneck Features: (165, 25088)\n"
          ],
          "name": "stdout"
        }
      ]
    },
    {
      "cell_type": "code",
      "metadata": {
        "id": "0EAG6RlQU7_p",
        "colab_type": "code",
        "colab": {
          "base_uri": "https://localhost:8080/",
          "height": 319
        },
        "outputId": "f29a7d8c-8ac5-436e-8bda-583b22d9a364"
      },
      "source": [
        "from keras.layers import Conv2D, MaxPooling2D, Flatten, Dense, Dropout, InputLayer\n",
        "from keras.models import Sequential\n",
        "from keras import optimizers\n",
        "\n",
        "input_shape = vgg_model.output_shape[1]\n",
        "\n",
        "model4 = Sequential()\n",
        "model4.add(InputLayer(input_shape=(input_shape,)))\n",
        "model4.add(Dense(512, activation='relu', input_dim=input_shape))\n",
        "model4.add(Dropout(0.3))\n",
        "model4.add(Dense(512, activation='relu'))\n",
        "model4.add(Dropout(0.3))\n",
        "model4.add(Dense(1, activation='sigmoid'))\n",
        "\n",
        "model4.compile(loss='binary_crossentropy',\n",
        "              optimizer=optimizers.RMSprop(lr=1e-4),\n",
        "              metrics=['accuracy'])\n",
        "\n",
        "model4.summary()"
      ],
      "execution_count": 31,
      "outputs": [
        {
          "output_type": "stream",
          "text": [
            "Model: \"sequential_4\"\n",
            "_________________________________________________________________\n",
            "Layer (type)                 Output Shape              Param #   \n",
            "=================================================================\n",
            "dense_9 (Dense)              (None, 512)               12845568  \n",
            "_________________________________________________________________\n",
            "dropout_5 (Dropout)          (None, 512)               0         \n",
            "_________________________________________________________________\n",
            "dense_10 (Dense)             (None, 512)               262656    \n",
            "_________________________________________________________________\n",
            "dropout_6 (Dropout)          (None, 512)               0         \n",
            "_________________________________________________________________\n",
            "dense_11 (Dense)             (None, 1)                 513       \n",
            "=================================================================\n",
            "Total params: 13,108,737\n",
            "Trainable params: 13,108,737\n",
            "Non-trainable params: 0\n",
            "_________________________________________________________________\n"
          ],
          "name": "stdout"
        }
      ]
    },
    {
      "cell_type": "code",
      "metadata": {
        "id": "WOm4VD2aU-fP",
        "colab_type": "code",
        "colab": {
          "base_uri": "https://localhost:8080/",
          "height": 1000
        },
        "outputId": "12adf432-b420-4f0c-87f9-3623b284ff48"
      },
      "source": [
        "history4 = model4.fit(x=train_features_vgg, y=train_y,\n",
        "                    validation_data=(validation_features_vgg, val_y),\n",
        "                    batch_size=batch_size,\n",
        "                    epochs=epochs,\n",
        "                    verbose=1)"
      ],
      "execution_count": 35,
      "outputs": [
        {
          "output_type": "stream",
          "text": [
            "Train on 1481 samples, validate on 165 samples\n",
            "Epoch 1/30\n",
            "1481/1481 [==============================] - 1s 528us/step - loss: 0.8225 - acc: 0.6502 - val_loss: 0.5262 - val_acc: 0.7394\n",
            "Epoch 2/30\n",
            "1481/1481 [==============================] - 0s 176us/step - loss: 0.4411 - acc: 0.7995 - val_loss: 0.4856 - val_acc: 0.7758\n",
            "Epoch 3/30\n",
            "1481/1481 [==============================] - 0s 187us/step - loss: 0.4034 - acc: 0.8082 - val_loss: 0.3210 - val_acc: 0.8364\n",
            "Epoch 4/30\n",
            "1481/1481 [==============================] - 0s 186us/step - loss: 0.3540 - acc: 0.8386 - val_loss: 0.2725 - val_acc: 0.8788\n",
            "Epoch 5/30\n",
            "1481/1481 [==============================] - 0s 181us/step - loss: 0.2414 - acc: 0.9061 - val_loss: 0.3603 - val_acc: 0.8424\n",
            "Epoch 6/30\n",
            "1481/1481 [==============================] - 0s 184us/step - loss: 0.2702 - acc: 0.8751 - val_loss: 0.2409 - val_acc: 0.9030\n",
            "Epoch 7/30\n",
            "1481/1481 [==============================] - 0s 173us/step - loss: 0.2232 - acc: 0.9055 - val_loss: 0.2219 - val_acc: 0.9212\n",
            "Epoch 8/30\n",
            "1481/1481 [==============================] - 0s 178us/step - loss: 0.1959 - acc: 0.9210 - val_loss: 0.2845 - val_acc: 0.8970\n",
            "Epoch 9/30\n",
            "1481/1481 [==============================] - 0s 177us/step - loss: 0.1908 - acc: 0.9223 - val_loss: 0.2445 - val_acc: 0.9091\n",
            "Epoch 10/30\n",
            "1481/1481 [==============================] - 0s 182us/step - loss: 0.1354 - acc: 0.9500 - val_loss: 0.8353 - val_acc: 0.6545\n",
            "Epoch 11/30\n",
            "1481/1481 [==============================] - 0s 181us/step - loss: 0.1475 - acc: 0.9453 - val_loss: 0.1880 - val_acc: 0.9152\n",
            "Epoch 12/30\n",
            "1481/1481 [==============================] - 0s 178us/step - loss: 0.1743 - acc: 0.9392 - val_loss: 0.2227 - val_acc: 0.9091\n",
            "Epoch 13/30\n",
            "1481/1481 [==============================] - 0s 188us/step - loss: 0.0648 - acc: 0.9838 - val_loss: 0.2108 - val_acc: 0.9333\n",
            "Epoch 14/30\n",
            "1481/1481 [==============================] - 0s 189us/step - loss: 0.1653 - acc: 0.9365 - val_loss: 0.1888 - val_acc: 0.9212\n",
            "Epoch 15/30\n",
            "1481/1481 [==============================] - 0s 179us/step - loss: 0.0419 - acc: 0.9905 - val_loss: 0.2012 - val_acc: 0.9212\n",
            "Epoch 16/30\n",
            "1481/1481 [==============================] - 0s 185us/step - loss: 0.1900 - acc: 0.9419 - val_loss: 0.1979 - val_acc: 0.9212\n",
            "Epoch 17/30\n",
            "1481/1481 [==============================] - 0s 180us/step - loss: 0.0334 - acc: 0.9932 - val_loss: 0.2732 - val_acc: 0.9212\n",
            "Epoch 18/30\n",
            "1481/1481 [==============================] - 0s 187us/step - loss: 0.0647 - acc: 0.9804 - val_loss: 1.2493 - val_acc: 0.7273\n",
            "Epoch 19/30\n",
            "1481/1481 [==============================] - 0s 176us/step - loss: 0.1060 - acc: 0.9683 - val_loss: 0.1959 - val_acc: 0.9333\n",
            "Epoch 20/30\n",
            "1481/1481 [==============================] - 0s 181us/step - loss: 0.0214 - acc: 0.9966 - val_loss: 0.2078 - val_acc: 0.9273\n",
            "Epoch 21/30\n",
            "1481/1481 [==============================] - 0s 178us/step - loss: 0.1226 - acc: 0.9467 - val_loss: 0.1882 - val_acc: 0.9333\n",
            "Epoch 22/30\n",
            "1481/1481 [==============================] - 0s 181us/step - loss: 0.0184 - acc: 0.9953 - val_loss: 0.2058 - val_acc: 0.9333\n",
            "Epoch 23/30\n",
            "1481/1481 [==============================] - 0s 173us/step - loss: 0.0157 - acc: 0.9966 - val_loss: 0.2123 - val_acc: 0.9394\n",
            "Epoch 24/30\n",
            "1481/1481 [==============================] - 0s 178us/step - loss: 0.2557 - acc: 0.9264 - val_loss: 0.1960 - val_acc: 0.9212\n",
            "Epoch 25/30\n",
            "1481/1481 [==============================] - 0s 178us/step - loss: 0.0165 - acc: 0.9986 - val_loss: 0.2159 - val_acc: 0.9273\n",
            "Epoch 26/30\n",
            "1481/1481 [==============================] - 0s 175us/step - loss: 0.0114 - acc: 0.9973 - val_loss: 0.2204 - val_acc: 0.9273\n",
            "Epoch 27/30\n",
            "1481/1481 [==============================] - 0s 175us/step - loss: 0.0115 - acc: 0.9966 - val_loss: 0.2251 - val_acc: 0.9333\n",
            "Epoch 28/30\n",
            "1481/1481 [==============================] - 0s 177us/step - loss: 0.0141 - acc: 0.9959 - val_loss: 0.5725 - val_acc: 0.8545\n",
            "Epoch 29/30\n",
            "1481/1481 [==============================] - 0s 176us/step - loss: 0.2346 - acc: 0.9440 - val_loss: 0.2105 - val_acc: 0.9212\n",
            "Epoch 30/30\n",
            "1481/1481 [==============================] - 0s 175us/step - loss: 0.0091 - acc: 0.9973 - val_loss: 0.2211 - val_acc: 0.9273\n"
          ],
          "name": "stdout"
        }
      ]
    },
    {
      "cell_type": "code",
      "metadata": {
        "id": "xo3DnUiuVEUE",
        "colab_type": "code",
        "colab": {
          "base_uri": "https://localhost:8080/",
          "height": 308
        },
        "outputId": "272cf661-9bba-4baa-89bf-c1bb5f6095fe"
      },
      "source": [
        "f, (ax1, ax2) = plt.subplots(1, 2, figsize=(12, 4))\n",
        "t = f.suptitle('Pre-trained CNN (Transfer Learning) Performance', fontsize=12)\n",
        "f.subplots_adjust(top=0.85, wspace=0.3)\n",
        "\n",
        "epoch_list = list(range(1,31))\n",
        "ax1.plot(epoch_list, history4.history['acc'], label='Train Accuracy')\n",
        "ax1.plot(epoch_list, history4.history['val_acc'], label='Validation Accuracy')\n",
        "ax1.set_xticks(np.arange(0, 31, 5))\n",
        "ax1.set_ylabel('Accuracy Value')\n",
        "ax1.set_xlabel('Epoch')\n",
        "ax1.set_title('Accuracy')\n",
        "l1 = ax1.legend(loc=\"best\")\n",
        "\n",
        "ax2.plot(epoch_list, history4.history['loss'], label='Train Loss')\n",
        "ax2.plot(epoch_list, history4.history['val_loss'], label='Validation Loss')\n",
        "ax2.set_xticks(np.arange(0, 31, 5))\n",
        "ax2.set_ylabel('Loss Value')\n",
        "ax2.set_xlabel('Epoch')\n",
        "ax2.set_title('Loss')\n",
        "l2 = ax2.legend(loc=\"best\")"
      ],
      "execution_count": 36,
      "outputs": [
        {
          "output_type": "display_data",
          "data": {
            "image/png": "[encoded data removed]",
            "text/plain": [
              "<Figure size 864x288 with 2 Axes>"
            ]
          },
          "metadata": {
            "tags": []
          }
        }
      ]
    },
    {
      "cell_type": "code",
      "metadata": {
        "id": "srfScN2zVLGW",
        "colab_type": "code",
        "colab": {}
      },
      "source": [
        "model4.save('emergency_non_tlearn_basic_cnn.h5')"
      ],
      "execution_count": 0,
      "outputs": []
    },
    {
      "cell_type": "code",
      "metadata": {
        "id": "ioBE1xxNVNJi",
        "colab_type": "code",
        "colab": {}
      },
      "source": [
        "#model 5\n",
        "train_datagen = ImageDataGenerator(rescale=1./255, zoom_range=0.3, rotation_range=50,\n",
        "                                   width_shift_range=0.2, height_shift_range=0.2, shear_range=0.2, \n",
        "                                   horizontal_flip=True, fill_mode='nearest')\n",
        "\n",
        "val_datagen = ImageDataGenerator(rescale=1./255)\n",
        "\n",
        "train_generator = train_datagen.flow(train_x, train_y, batch_size=30)\n",
        "val_generator = val_datagen.flow(val_x, val_y, batch_size=20)"
      ],
      "execution_count": 0,
      "outputs": []
    },
    {
      "cell_type": "code",
      "metadata": {
        "id": "p3-BP8ZAVPrD",
        "colab_type": "code",
        "colab": {
          "base_uri": "https://localhost:8080/",
          "height": 353
        },
        "outputId": "efeb1432-b221-4147-c45a-97e496f307b2"
      },
      "source": [
        "from keras.layers import Conv2D, MaxPooling2D, Flatten, Dense, Dropout, InputLayer\n",
        "from keras.models import Sequential\n",
        "from keras import optimizers\n",
        "\n",
        "model5 = Sequential()\n",
        "model5.add(vgg_model)\n",
        "model5.add(Dense(512, activation='relu', input_dim=input_shape))\n",
        "model5.add(Dropout(0.3))\n",
        "model5.add(Dense(512, activation='relu'))\n",
        "model5.add(Dropout(0.3))\n",
        "model5.add(Dense(1, activation='sigmoid'))\n",
        "\n",
        "model5.compile(loss='binary_crossentropy',\n",
        "              optimizer=optimizers.RMSprop(lr=2e-5),\n",
        "              metrics=['accuracy'])\n",
        "\n",
        "model5.summary()"
      ],
      "execution_count": 39,
      "outputs": [
        {
          "output_type": "stream",
          "text": [
            "Model: \"sequential_5\"\n",
            "_________________________________________________________________\n",
            "Layer (type)                 Output Shape              Param #   \n",
            "=================================================================\n",
            "model_1 (Model)              (None, 25088)             14714688  \n",
            "_________________________________________________________________\n",
            "dense_12 (Dense)             (None, 512)               12845568  \n",
            "_________________________________________________________________\n",
            "dropout_7 (Dropout)          (None, 512)               0         \n",
            "_________________________________________________________________\n",
            "dense_13 (Dense)             (None, 512)               262656    \n",
            "_________________________________________________________________\n",
            "dropout_8 (Dropout)          (None, 512)               0         \n",
            "_________________________________________________________________\n",
            "dense_14 (Dense)             (None, 1)                 513       \n",
            "=================================================================\n",
            "Total params: 27,823,425\n",
            "Trainable params: 13,108,737\n",
            "Non-trainable params: 14,714,688\n",
            "_________________________________________________________________\n"
          ],
          "name": "stdout"
        }
      ]
    },
    {
      "cell_type": "code",
      "metadata": {
        "id": "75OKuSM0YQS3",
        "colab_type": "code",
        "colab": {
          "base_uri": "https://localhost:8080/",
          "height": 1000
        },
        "outputId": "867f9793-d145-4116-a93c-444886379f6f"
      },
      "source": [
        "history5 = model5.fit_generator(train_generator, steps_per_epoch=100, epochs=100,\n",
        "                              validation_data=val_generator, validation_steps=50, verbose=1)"
      ],
      "execution_count": 40,
      "outputs": [
        {
          "output_type": "stream",
          "text": [
            "Epoch 1/100\n",
            "100/100 [==============================] - 40s 400ms/step - loss: 0.7027 - acc: 0.5445 - val_loss: 0.6927 - val_acc: 0.5903\n",
            "Epoch 2/100\n",
            "100/100 [==============================] - 33s 332ms/step - loss: 0.6990 - acc: 0.5626 - val_loss: 0.6797 - val_acc: 0.5835\n",
            "Epoch 3/100\n",
            "100/100 [==============================] - 34s 337ms/step - loss: 0.6888 - acc: 0.5688 - val_loss: 0.6816 - val_acc: 0.5849\n",
            "Epoch 4/100\n",
            "100/100 [==============================] - 35s 347ms/step - loss: 0.6867 - acc: 0.5788 - val_loss: 0.6772 - val_acc: 0.5890\n",
            "Epoch 5/100\n",
            "100/100 [==============================] - 34s 342ms/step - loss: 0.6889 - acc: 0.5721 - val_loss: 0.6771 - val_acc: 0.5924\n",
            "Epoch 6/100\n",
            "100/100 [==============================] - 34s 343ms/step - loss: 0.6822 - acc: 0.5835 - val_loss: 0.6789 - val_acc: 0.5846\n",
            "Epoch 7/100\n",
            "100/100 [==============================] - 35s 351ms/step - loss: 0.6802 - acc: 0.5792 - val_loss: 0.6771 - val_acc: 0.5892\n",
            "Epoch 8/100\n",
            "100/100 [==============================] - 35s 350ms/step - loss: 0.6816 - acc: 0.5845 - val_loss: 0.6780 - val_acc: 0.5868\n",
            "Epoch 9/100\n",
            "100/100 [==============================] - 35s 347ms/step - loss: 0.6831 - acc: 0.5788 - val_loss: 0.6771 - val_acc: 0.5901\n",
            "Epoch 10/100\n",
            "100/100 [==============================] - 35s 349ms/step - loss: 0.6807 - acc: 0.5847 - val_loss: 0.6786 - val_acc: 0.5849\n",
            "Epoch 11/100\n",
            "100/100 [==============================] - 34s 343ms/step - loss: 0.6823 - acc: 0.5801 - val_loss: 0.6765 - val_acc: 0.5923\n",
            "Epoch 12/100\n",
            "100/100 [==============================] - 33s 335ms/step - loss: 0.6840 - acc: 0.5854 - val_loss: 0.6789 - val_acc: 0.5859\n",
            "Epoch 13/100\n",
            "100/100 [==============================] - 34s 336ms/step - loss: 0.6805 - acc: 0.5845 - val_loss: 0.6794 - val_acc: 0.5835\n",
            "Epoch 14/100\n",
            "100/100 [==============================] - 35s 349ms/step - loss: 0.6816 - acc: 0.5866 - val_loss: 0.6781 - val_acc: 0.5903\n",
            "Epoch 15/100\n",
            "100/100 [==============================] - 34s 341ms/step - loss: 0.6800 - acc: 0.5865 - val_loss: 0.6780 - val_acc: 0.5901\n",
            "Epoch 16/100\n",
            "100/100 [==============================] - 34s 342ms/step - loss: 0.6789 - acc: 0.5852 - val_loss: 0.6771 - val_acc: 0.5892\n",
            "Epoch 17/100\n",
            "100/100 [==============================] - 34s 339ms/step - loss: 0.6819 - acc: 0.5867 - val_loss: 0.6789 - val_acc: 0.5857\n",
            "Epoch 18/100\n",
            "100/100 [==============================] - 34s 339ms/step - loss: 0.6796 - acc: 0.5862 - val_loss: 0.6774 - val_acc: 0.5890\n",
            "Epoch 19/100\n",
            "100/100 [==============================] - 34s 337ms/step - loss: 0.6804 - acc: 0.5842 - val_loss: 0.6777 - val_acc: 0.5892\n",
            "Epoch 20/100\n",
            "100/100 [==============================] - 35s 350ms/step - loss: 0.6817 - acc: 0.5815 - val_loss: 0.6794 - val_acc: 0.5835\n",
            "Epoch 21/100\n",
            "100/100 [==============================] - 34s 341ms/step - loss: 0.6798 - acc: 0.5848 - val_loss: 0.6757 - val_acc: 0.5935\n",
            "Epoch 22/100\n",
            "100/100 [==============================] - 35s 346ms/step - loss: 0.6806 - acc: 0.5849 - val_loss: 0.6787 - val_acc: 0.5857\n",
            "Epoch 23/100\n",
            "100/100 [==============================] - 34s 336ms/step - loss: 0.6803 - acc: 0.5853 - val_loss: 0.6774 - val_acc: 0.5892\n",
            "Epoch 24/100\n",
            "100/100 [==============================] - 35s 348ms/step - loss: 0.6775 - acc: 0.5859 - val_loss: 0.6760 - val_acc: 0.5923\n",
            "Epoch 25/100\n",
            "100/100 [==============================] - 34s 342ms/step - loss: 0.6823 - acc: 0.5855 - val_loss: 0.6798 - val_acc: 0.5816\n",
            "Epoch 26/100\n",
            "100/100 [==============================] - 35s 347ms/step - loss: 0.6805 - acc: 0.5858 - val_loss: 0.6787 - val_acc: 0.5879\n",
            "Epoch 27/100\n",
            "100/100 [==============================] - 34s 338ms/step - loss: 0.6810 - acc: 0.5856 - val_loss: 0.6778 - val_acc: 0.5879\n",
            "Epoch 28/100\n",
            "100/100 [==============================] - 33s 326ms/step - loss: 0.6810 - acc: 0.5841 - val_loss: 0.6786 - val_acc: 0.5881\n",
            "Epoch 29/100\n",
            "100/100 [==============================] - 33s 333ms/step - loss: 0.6792 - acc: 0.5849 - val_loss: 0.6781 - val_acc: 0.5868\n",
            "Epoch 30/100\n",
            "100/100 [==============================] - 35s 346ms/step - loss: 0.6804 - acc: 0.5841 - val_loss: 0.6796 - val_acc: 0.5827\n",
            "Epoch 31/100\n",
            "100/100 [==============================] - 35s 346ms/step - loss: 0.6809 - acc: 0.5866 - val_loss: 0.6774 - val_acc: 0.5945\n",
            "Epoch 32/100\n",
            "100/100 [==============================] - 34s 338ms/step - loss: 0.6811 - acc: 0.5884 - val_loss: 0.6784 - val_acc: 0.5870\n",
            "Epoch 33/100\n",
            "100/100 [==============================] - 33s 335ms/step - loss: 0.6800 - acc: 0.5862 - val_loss: 0.6782 - val_acc: 0.5879\n",
            "Epoch 34/100\n",
            "100/100 [==============================] - 34s 338ms/step - loss: 0.6798 - acc: 0.5873 - val_loss: 0.6768 - val_acc: 0.5903\n",
            "Epoch 35/100\n",
            "100/100 [==============================] - 34s 338ms/step - loss: 0.6798 - acc: 0.5858 - val_loss: 0.6772 - val_acc: 0.5901\n",
            "Epoch 36/100\n",
            "100/100 [==============================] - 35s 346ms/step - loss: 0.6787 - acc: 0.5875 - val_loss: 0.6791 - val_acc: 0.5835\n",
            "Epoch 37/100\n",
            "100/100 [==============================] - 35s 347ms/step - loss: 0.6788 - acc: 0.5856 - val_loss: 0.6770 - val_acc: 0.5914\n",
            "Epoch 38/100\n",
            "100/100 [==============================] - 33s 333ms/step - loss: 0.6794 - acc: 0.5867 - val_loss: 0.6784 - val_acc: 0.5868\n",
            "Epoch 39/100\n",
            "100/100 [==============================] - 34s 342ms/step - loss: 0.6814 - acc: 0.5833 - val_loss: 0.6796 - val_acc: 0.5838\n",
            "Epoch 40/100\n",
            "100/100 [==============================] - 34s 342ms/step - loss: 0.6786 - acc: 0.5862 - val_loss: 0.6762 - val_acc: 0.5934\n",
            "Epoch 41/100\n",
            "100/100 [==============================] - 33s 332ms/step - loss: 0.6779 - acc: 0.5879 - val_loss: 0.6785 - val_acc: 0.5849\n",
            "Epoch 42/100\n",
            "100/100 [==============================] - 34s 342ms/step - loss: 0.6812 - acc: 0.5862 - val_loss: 0.6782 - val_acc: 0.5879\n",
            "Epoch 43/100\n",
            "100/100 [==============================] - 34s 339ms/step - loss: 0.6790 - acc: 0.5862 - val_loss: 0.6785 - val_acc: 0.5859\n",
            "Epoch 44/100\n",
            "100/100 [==============================] - 34s 340ms/step - loss: 0.6825 - acc: 0.5844 - val_loss: 0.6784 - val_acc: 0.5901\n",
            "Epoch 45/100\n",
            "100/100 [==============================] - 34s 340ms/step - loss: 0.6796 - acc: 0.5850 - val_loss: 0.6787 - val_acc: 0.5868\n",
            "Epoch 46/100\n",
            "100/100 [==============================] - 35s 345ms/step - loss: 0.6789 - acc: 0.5850 - val_loss: 0.6794 - val_acc: 0.5827\n",
            "Epoch 47/100\n",
            "100/100 [==============================] - 33s 328ms/step - loss: 0.6783 - acc: 0.5879 - val_loss: 0.6764 - val_acc: 0.5923\n",
            "Epoch 48/100\n",
            "100/100 [==============================] - 35s 348ms/step - loss: 0.6781 - acc: 0.5867 - val_loss: 0.6755 - val_acc: 0.5957\n",
            "Epoch 49/100\n",
            "100/100 [==============================] - 34s 337ms/step - loss: 0.6794 - acc: 0.5862 - val_loss: 0.6799 - val_acc: 0.5813\n",
            "Epoch 50/100\n",
            "100/100 [==============================] - 34s 339ms/step - loss: 0.6793 - acc: 0.5873 - val_loss: 0.6773 - val_acc: 0.5903\n",
            "Epoch 51/100\n",
            "100/100 [==============================] - 34s 338ms/step - loss: 0.6792 - acc: 0.5856 - val_loss: 0.6798 - val_acc: 0.5813\n",
            "Epoch 52/100\n",
            "100/100 [==============================] - 35s 347ms/step - loss: 0.6790 - acc: 0.5873 - val_loss: 0.6766 - val_acc: 0.5935\n",
            "Epoch 53/100\n",
            "100/100 [==============================] - 35s 347ms/step - loss: 0.6792 - acc: 0.5862 - val_loss: 0.6789 - val_acc: 0.5857\n",
            "Epoch 54/100\n",
            "100/100 [==============================] - 34s 336ms/step - loss: 0.6825 - acc: 0.5827 - val_loss: 0.6789 - val_acc: 0.5879\n",
            "Epoch 55/100\n",
            "100/100 [==============================] - 34s 338ms/step - loss: 0.6806 - acc: 0.5839 - val_loss: 0.6788 - val_acc: 0.5870\n",
            "Epoch 56/100\n",
            "100/100 [==============================] - 33s 335ms/step - loss: 0.6794 - acc: 0.5839 - val_loss: 0.6778 - val_acc: 0.5890\n",
            "Epoch 57/100\n",
            "100/100 [==============================] - 33s 333ms/step - loss: 0.6798 - acc: 0.5884 - val_loss: 0.6779 - val_acc: 0.5870\n",
            "Epoch 58/100\n",
            "100/100 [==============================] - 34s 344ms/step - loss: 0.6806 - acc: 0.5867 - val_loss: 0.6774 - val_acc: 0.5901\n",
            "Epoch 59/100\n",
            "100/100 [==============================] - 33s 333ms/step - loss: 0.6769 - acc: 0.5867 - val_loss: 0.6791 - val_acc: 0.5838\n",
            "Epoch 60/100\n",
            "100/100 [==============================] - 34s 340ms/step - loss: 0.6798 - acc: 0.5856 - val_loss: 0.6774 - val_acc: 0.5890\n",
            "Epoch 61/100\n",
            "100/100 [==============================] - 34s 339ms/step - loss: 0.6791 - acc: 0.5867 - val_loss: 0.6774 - val_acc: 0.5892\n",
            "Epoch 62/100\n",
            "100/100 [==============================] - 34s 337ms/step - loss: 0.6785 - acc: 0.5867 - val_loss: 0.6780 - val_acc: 0.5890\n",
            "Epoch 63/100\n",
            "100/100 [==============================] - 34s 340ms/step - loss: 0.6803 - acc: 0.5862 - val_loss: 0.6782 - val_acc: 0.5868\n",
            "Epoch 64/100\n",
            "100/100 [==============================] - 34s 337ms/step - loss: 0.6798 - acc: 0.5867 - val_loss: 0.6774 - val_acc: 0.5903\n",
            "Epoch 65/100\n",
            "100/100 [==============================] - 34s 336ms/step - loss: 0.6802 - acc: 0.5862 - val_loss: 0.6788 - val_acc: 0.5857\n",
            "Epoch 66/100\n",
            "100/100 [==============================] - 34s 342ms/step - loss: 0.6761 - acc: 0.5879 - val_loss: 0.6781 - val_acc: 0.5859\n",
            "Epoch 67/100\n",
            "100/100 [==============================] - 34s 339ms/step - loss: 0.6781 - acc: 0.5856 - val_loss: 0.6767 - val_acc: 0.5912\n",
            "Epoch 68/100\n",
            "100/100 [==============================] - 33s 329ms/step - loss: 0.6787 - acc: 0.5873 - val_loss: 0.6768 - val_acc: 0.5903\n",
            "Epoch 69/100\n",
            "100/100 [==============================] - 34s 342ms/step - loss: 0.6797 - acc: 0.5856 - val_loss: 0.6788 - val_acc: 0.5846\n",
            "Epoch 70/100\n",
            "100/100 [==============================] - 35s 346ms/step - loss: 0.6794 - acc: 0.5844 - val_loss: 0.6790 - val_acc: 0.5859\n",
            "Epoch 71/100\n",
            "100/100 [==============================] - 33s 334ms/step - loss: 0.6788 - acc: 0.5862 - val_loss: 0.6785 - val_acc: 0.5857\n",
            "Epoch 72/100\n",
            "100/100 [==============================] - 33s 328ms/step - loss: 0.6794 - acc: 0.5873 - val_loss: 0.6773 - val_acc: 0.5912\n",
            "Epoch 73/100\n",
            "100/100 [==============================] - 34s 335ms/step - loss: 0.6788 - acc: 0.5856 - val_loss: 0.6782 - val_acc: 0.5870\n",
            "Epoch 74/100\n",
            "100/100 [==============================] - 34s 338ms/step - loss: 0.6794 - acc: 0.5856 - val_loss: 0.6775 - val_acc: 0.5901\n",
            "Epoch 75/100\n",
            "100/100 [==============================] - 34s 337ms/step - loss: 0.6791 - acc: 0.5867 - val_loss: 0.6788 - val_acc: 0.5859\n",
            "Epoch 76/100\n",
            "100/100 [==============================] - 34s 337ms/step - loss: 0.6804 - acc: 0.5827 - val_loss: 0.6781 - val_acc: 0.5868\n",
            "Epoch 77/100\n",
            "100/100 [==============================] - 34s 343ms/step - loss: 0.6783 - acc: 0.5873 - val_loss: 0.6789 - val_acc: 0.5838\n",
            "Epoch 78/100\n",
            "100/100 [==============================] - 34s 341ms/step - loss: 0.6805 - acc: 0.5850 - val_loss: 0.6757 - val_acc: 0.5956\n",
            "Epoch 79/100\n",
            "100/100 [==============================] - 35s 348ms/step - loss: 0.6802 - acc: 0.5850 - val_loss: 0.6785 - val_acc: 0.5870\n",
            "Epoch 80/100\n",
            "100/100 [==============================] - 34s 339ms/step - loss: 0.6802 - acc: 0.5850 - val_loss: 0.6758 - val_acc: 0.5934\n",
            "Epoch 81/100\n",
            "100/100 [==============================] - 34s 338ms/step - loss: 0.6805 - acc: 0.5850 - val_loss: 0.6798 - val_acc: 0.5813\n",
            "Epoch 82/100\n",
            "100/100 [==============================] - 34s 345ms/step - loss: 0.6791 - acc: 0.5850 - val_loss: 0.6787 - val_acc: 0.5870\n",
            "Epoch 83/100\n",
            "100/100 [==============================] - 35s 346ms/step - loss: 0.6773 - acc: 0.5879 - val_loss: 0.6768 - val_acc: 0.5901\n",
            "Epoch 84/100\n",
            "100/100 [==============================] - 34s 336ms/step - loss: 0.6794 - acc: 0.5856 - val_loss: 0.6781 - val_acc: 0.5870\n",
            "Epoch 85/100\n",
            "100/100 [==============================] - 34s 338ms/step - loss: 0.6792 - acc: 0.5850 - val_loss: 0.6785 - val_acc: 0.5857\n",
            "Epoch 86/100\n",
            "100/100 [==============================] - 34s 337ms/step - loss: 0.6794 - acc: 0.5844 - val_loss: 0.6787 - val_acc: 0.5859\n",
            "Epoch 87/100\n",
            "100/100 [==============================] - 34s 340ms/step - loss: 0.6800 - acc: 0.5856 - val_loss: 0.6781 - val_acc: 0.5879\n",
            "Epoch 88/100\n",
            "100/100 [==============================] - 35s 348ms/step - loss: 0.6784 - acc: 0.5850 - val_loss: 0.6775 - val_acc: 0.5903\n",
            "Epoch 89/100\n",
            "100/100 [==============================] - 33s 333ms/step - loss: 0.6775 - acc: 0.5890 - val_loss: 0.6759 - val_acc: 0.5934\n",
            "Epoch 90/100\n",
            "100/100 [==============================] - 32s 324ms/step - loss: 0.6805 - acc: 0.5833 - val_loss: 0.6793 - val_acc: 0.5835\n",
            "Epoch 91/100\n",
            "100/100 [==============================] - 33s 333ms/step - loss: 0.6796 - acc: 0.5879 - val_loss: 0.6786 - val_acc: 0.5859\n",
            "Epoch 92/100\n",
            "100/100 [==============================] - 35s 347ms/step - loss: 0.6802 - acc: 0.5856 - val_loss: 0.6773 - val_acc: 0.5912\n",
            "Epoch 93/100\n",
            "100/100 [==============================] - 34s 344ms/step - loss: 0.6781 - acc: 0.5873 - val_loss: 0.6780 - val_acc: 0.5870\n",
            "Epoch 94/100\n",
            "100/100 [==============================] - 35s 348ms/step - loss: 0.6784 - acc: 0.5856 - val_loss: 0.6787 - val_acc: 0.5846\n",
            "Epoch 95/100\n",
            "100/100 [==============================] - 34s 342ms/step - loss: 0.6797 - acc: 0.5850 - val_loss: 0.6773 - val_acc: 0.5892\n",
            "Epoch 96/100\n",
            "100/100 [==============================] - 35s 348ms/step - loss: 0.6783 - acc: 0.5862 - val_loss: 0.6754 - val_acc: 0.5956\n",
            "Epoch 97/100\n",
            "100/100 [==============================] - 34s 338ms/step - loss: 0.6800 - acc: 0.5844 - val_loss: 0.6794 - val_acc: 0.5827\n",
            "Epoch 98/100\n",
            "100/100 [==============================] - 35s 351ms/step - loss: 0.6787 - acc: 0.5873 - val_loss: 0.6777 - val_acc: 0.5879\n",
            "Epoch 99/100\n",
            "100/100 [==============================] - 34s 337ms/step - loss: 0.6786 - acc: 0.5862 - val_loss: 0.6777 - val_acc: 0.5868\n",
            "Epoch 100/100\n",
            "100/100 [==============================] - 34s 345ms/step - loss: 0.6786 - acc: 0.5873 - val_loss: 0.6779 - val_acc: 0.5870\n"
          ],
          "name": "stdout"
        }
      ]
    },
    {
      "cell_type": "code",
      "metadata": {
        "id": "cxQL0D2WYVpH",
        "colab_type": "code",
        "colab": {
          "base_uri": "https://localhost:8080/",
          "height": 308
        },
        "outputId": "14fe8775-9f29-4efe-f60d-61334003b5b7"
      },
      "source": [
        "f, (ax1, ax2) = plt.subplots(1, 2, figsize=(12, 4))\n",
        "t = f.suptitle('Pre-trained CNN (Transfer Learning) with Image Augmentation Performance', fontsize=12)\n",
        "f.subplots_adjust(top=0.85, wspace=0.3)\n",
        "\n",
        "epoch_list = list(range(1,101))\n",
        "ax1.plot(epoch_list, history5.history['acc'], label='Train Accuracy')\n",
        "ax1.plot(epoch_list, history5.history['val_acc'], label='Validation Accuracy')\n",
        "ax1.set_xticks(np.arange(0, 101, 10))\n",
        "ax1.set_ylabel('Accuracy Value')\n",
        "ax1.set_xlabel('Epoch')\n",
        "ax1.set_title('Accuracy')\n",
        "l1 = ax1.legend(loc=\"best\")\n",
        "\n",
        "ax2.plot(epoch_list, history5.history['loss'], label='Train Loss')\n",
        "ax2.plot(epoch_list, history5.history['val_loss'], label='Validation Loss')\n",
        "ax2.set_xticks(np.arange(0, 101, 10))\n",
        "ax2.set_ylabel('Loss Value')\n",
        "ax2.set_xlabel('Epoch')\n",
        "ax2.set_title('Loss')\n",
        "l2 = ax2.legend(loc=\"best\")"
      ],
      "execution_count": 41,
      "outputs": [
        {
          "output_type": "display_data",
          "data": {
            "image/png": "[encoded data removed]",
            "text/plain": [
              "<Figure size 864x288 with 2 Axes>"
            ]
          },
          "metadata": {
            "tags": []
          }
        }
      ]
    },
    {
      "cell_type": "code",
      "metadata": {
        "id": "k1rAxMuaYfVr",
        "colab_type": "code",
        "colab": {
          "base_uri": "https://localhost:8080/",
          "height": 54
        },
        "outputId": "b8179942-e714-4582-e336-6d56515e061f"
      },
      "source": [
        "vgg_model.trainable = True\n",
        "\n",
        "set_trainable = False\n",
        "for layer in vgg_model.layers:\n",
        "    if layer.name in ['block5_conv1', 'block4_conv1']:\n",
        "        set_trainable = True\n",
        "    if set_trainable:\n",
        "        layer.trainable = True\n",
        "    else:\n",
        "        layer.trainable = False\n",
        "        \n",
        "print(\"Trainable layers:\", vgg_model.trainable_weights)"
      ],
      "execution_count": 42,
      "outputs": [
        {
          "output_type": "stream",
          "text": [
            "Trainable layers: [<tf.Variable 'block4_conv1/kernel:0' shape=(3, 3, 256, 512) dtype=float32_ref>, <tf.Variable 'block4_conv1/bias:0' shape=(512,) dtype=float32_ref>, <tf.Variable 'block4_conv2/kernel:0' shape=(3, 3, 512, 512) dtype=float32_ref>, <tf.Variable 'block4_conv2/bias:0' shape=(512,) dtype=float32_ref>, <tf.Variable 'block4_conv3/kernel:0' shape=(3, 3, 512, 512) dtype=float32_ref>, <tf.Variable 'block4_conv3/bias:0' shape=(512,) dtype=float32_ref>, <tf.Variable 'block5_conv1/kernel:0' shape=(3, 3, 512, 512) dtype=float32_ref>, <tf.Variable 'block5_conv1/bias:0' shape=(512,) dtype=float32_ref>, <tf.Variable 'block5_conv2/kernel:0' shape=(3, 3, 512, 512) dtype=float32_ref>, <tf.Variable 'block5_conv2/bias:0' shape=(512,) dtype=float32_ref>, <tf.Variable 'block5_conv3/kernel:0' shape=(3, 3, 512, 512) dtype=float32_ref>, <tf.Variable 'block5_conv3/bias:0' shape=(512,) dtype=float32_ref>]\n"
          ],
          "name": "stdout"
        }
      ]
    },
    {
      "cell_type": "code",
      "metadata": {
        "id": "yEVlDTQ5YjON",
        "colab_type": "code",
        "colab": {
          "base_uri": "https://localhost:8080/",
          "height": 639
        },
        "outputId": "6ddfc8f3-adb2-42b2-dae7-82fc5034c33d"
      },
      "source": [
        "\n",
        "layers = [(layer, layer.name, layer.trainable) for layer in vgg_model.layers]\n",
        "pd.DataFrame(layers, columns=['Layer Type', 'Layer Name', 'Layer Trainable'])"
      ],
      "execution_count": 43,
      "outputs": [
        {
          "output_type": "execute_result",
          "data": {
            "text/html": [
              "<div>\n",
              "<style scoped>\n",
              "    .dataframe tbody tr th:only-of-type {\n",
              "        vertical-align: middle;\n",
              "    }\n",
              "\n",
              "    .dataframe tbody tr th {\n",
              "        vertical-align: top;\n",
              "    }\n",
              "\n",
              "    .dataframe thead th {\n",
              "        text-align: right;\n",
              "    }\n",
              "</style>\n",
              "<table border=\"1\" class=\"dataframe\">\n",
              "  <thead>\n",
              "    <tr style=\"text-align: right;\">\n",
              "      <th></th>\n",
              "      <th>Layer Type</th>\n",
              "      <th>Layer Name</th>\n",
              "      <th>Layer Trainable</th>\n",
              "    </tr>\n",
              "  </thead>\n",
              "  <tbody>\n",
              "    <tr>\n",
              "      <th>0</th>\n",
              "      <td>&lt;keras.engine.input_layer.InputLayer object at 0x7fb6f18c7ba8&gt;</td>\n",
              "      <td>input_1</td>\n",
              "      <td>False</td>\n",
              "    </tr>\n",
              "    <tr>\n",
              "      <th>1</th>\n",
              "      <td>&lt;keras.layers.convolutional.Conv2D object at 0x7fb6f1872898&gt;</td>\n",
              "      <td>block1_conv1</td>\n",
              "      <td>False</td>\n",
              "    </tr>\n",
              "    <tr>\n",
              "      <th>2</th>\n",
              "      <td>&lt;keras.layers.convolutional.Conv2D object at 0x7fb6f1872b70&gt;</td>\n",
              "      <td>block1_conv2</td>\n",
              "      <td>False</td>\n",
              "    </tr>\n",
              "    <tr>\n",
              "      <th>3</th>\n",
              "      <td>&lt;keras.layers.pooling.MaxPooling2D object at 0x7fb6f1794b70&gt;</td>\n",
              "      <td>block1_pool</td>\n",
              "      <td>False</td>\n",
              "    </tr>\n",
              "    <tr>\n",
              "      <th>4</th>\n",
              "      <td>&lt;keras.layers.convolutional.Conv2D object at 0x7fb6f17a5438&gt;</td>\n",
              "      <td>block2_conv1</td>\n",
              "      <td>False</td>\n",
              "    </tr>\n",
              "    <tr>\n",
              "      <th>5</th>\n",
              "      <td>&lt;keras.layers.convolutional.Conv2D object at 0x7fb6f17cabe0&gt;</td>\n",
              "      <td>block2_conv2</td>\n",
              "      <td>False</td>\n",
              "    </tr>\n",
              "    <tr>\n",
              "      <th>6</th>\n",
              "      <td>&lt;keras.layers.pooling.MaxPooling2D object at 0x7fb6f17d0a58&gt;</td>\n",
              "      <td>block2_pool</td>\n",
              "      <td>False</td>\n",
              "    </tr>\n",
              "    <tr>\n",
              "      <th>7</th>\n",
              "      <td>&lt;keras.layers.convolutional.Conv2D object at 0x7fb6f175a978&gt;</td>\n",
              "      <td>block3_conv1</td>\n",
              "      <td>False</td>\n",
              "    </tr>\n",
              "    <tr>\n",
              "      <th>8</th>\n",
              "      <td>&lt;keras.layers.convolutional.Conv2D object at 0x7fb6f175b1d0&gt;</td>\n",
              "      <td>block3_conv2</td>\n",
              "      <td>False</td>\n",
              "    </tr>\n",
              "    <tr>\n",
              "      <th>9</th>\n",
              "      <td>&lt;keras.layers.convolutional.Conv2D object at 0x7fb6f17675c0&gt;</td>\n",
              "      <td>block3_conv3</td>\n",
              "      <td>False</td>\n",
              "    </tr>\n",
              "    <tr>\n",
              "      <th>10</th>\n",
              "      <td>&lt;keras.layers.pooling.MaxPooling2D object at 0x7fb6f176ca58&gt;</td>\n",
              "      <td>block3_pool</td>\n",
              "      <td>False</td>\n",
              "    </tr>\n",
              "    <tr>\n",
              "      <th>11</th>\n",
              "      <td>&lt;keras.layers.convolutional.Conv2D object at 0x7fb6f177a898&gt;</td>\n",
              "      <td>block4_conv1</td>\n",
              "      <td>True</td>\n",
              "    </tr>\n",
              "    <tr>\n",
              "      <th>12</th>\n",
              "      <td>&lt;keras.layers.convolutional.Conv2D object at 0x7fb6f177aeb8&gt;</td>\n",
              "      <td>block4_conv2</td>\n",
              "      <td>True</td>\n",
              "    </tr>\n",
              "    <tr>\n",
              "      <th>13</th>\n",
              "      <td>&lt;keras.layers.convolutional.Conv2D object at 0x7fb6f1787128&gt;</td>\n",
              "      <td>block4_conv3</td>\n",
              "      <td>True</td>\n",
              "    </tr>\n",
              "    <tr>\n",
              "      <th>14</th>\n",
              "      <td>&lt;keras.layers.pooling.MaxPooling2D object at 0x7fb6f178c978&gt;</td>\n",
              "      <td>block4_pool</td>\n",
              "      <td>True</td>\n",
              "    </tr>\n",
              "    <tr>\n",
              "      <th>15</th>\n",
              "      <td>&lt;keras.layers.convolutional.Conv2D object at 0x7fb6f171c7b8&gt;</td>\n",
              "      <td>block5_conv1</td>\n",
              "      <td>True</td>\n",
              "    </tr>\n",
              "    <tr>\n",
              "      <th>16</th>\n",
              "      <td>&lt;keras.layers.convolutional.Conv2D object at 0x7fb6f171ccc0&gt;</td>\n",
              "      <td>block5_conv2</td>\n",
              "      <td>True</td>\n",
              "    </tr>\n",
              "    <tr>\n",
              "      <th>17</th>\n",
              "      <td>&lt;keras.layers.convolutional.Conv2D object at 0x7fb6f1721e48&gt;</td>\n",
              "      <td>block5_conv3</td>\n",
              "      <td>True</td>\n",
              "    </tr>\n",
              "    <tr>\n",
              "      <th>18</th>\n",
              "      <td>&lt;keras.layers.pooling.MaxPooling2D object at 0x7fb6f172e898&gt;</td>\n",
              "      <td>block5_pool</td>\n",
              "      <td>True</td>\n",
              "    </tr>\n",
              "    <tr>\n",
              "      <th>19</th>\n",
              "      <td>&lt;keras.layers.core.Flatten object at 0x7fb6f12b4c88&gt;</td>\n",
              "      <td>flatten_4</td>\n",
              "      <td>True</td>\n",
              "    </tr>\n",
              "  </tbody>\n",
              "</table>\n",
              "</div>"
            ],
            "text/plain": [
              "                                                        Layer Type  ... Layer Trainable\n",
              "0   <keras.engine.input_layer.InputLayer object at 0x7fb6f18c7ba8>  ...  False         \n",
              "1   <keras.layers.convolutional.Conv2D object at 0x7fb6f1872898>    ...  False         \n",
              "2   <keras.layers.convolutional.Conv2D object at 0x7fb6f1872b70>    ...  False         \n",
              "3   <keras.layers.pooling.MaxPooling2D object at 0x7fb6f1794b70>    ...  False         \n",
              "4   <keras.layers.convolutional.Conv2D object at 0x7fb6f17a5438>    ...  False         \n",
              "5   <keras.layers.convolutional.Conv2D object at 0x7fb6f17cabe0>    ...  False         \n",
              "6   <keras.layers.pooling.MaxPooling2D object at 0x7fb6f17d0a58>    ...  False         \n",
              "7   <keras.layers.convolutional.Conv2D object at 0x7fb6f175a978>    ...  False         \n",
              "8   <keras.layers.convolutional.Conv2D object at 0x7fb6f175b1d0>    ...  False         \n",
              "9   <keras.layers.convolutional.Conv2D object at 0x7fb6f17675c0>    ...  False         \n",
              "10  <keras.layers.pooling.MaxPooling2D object at 0x7fb6f176ca58>    ...  False         \n",
              "11  <keras.layers.convolutional.Conv2D object at 0x7fb6f177a898>    ...  True          \n",
              "12  <keras.layers.convolutional.Conv2D object at 0x7fb6f177aeb8>    ...  True          \n",
              "13  <keras.layers.convolutional.Conv2D object at 0x7fb6f1787128>    ...  True          \n",
              "14  <keras.layers.pooling.MaxPooling2D object at 0x7fb6f178c978>    ...  True          \n",
              "15  <keras.layers.convolutional.Conv2D object at 0x7fb6f171c7b8>    ...  True          \n",
              "16  <keras.layers.convolutional.Conv2D object at 0x7fb6f171ccc0>    ...  True          \n",
              "17  <keras.layers.convolutional.Conv2D object at 0x7fb6f1721e48>    ...  True          \n",
              "18  <keras.layers.pooling.MaxPooling2D object at 0x7fb6f172e898>    ...  True          \n",
              "19  <keras.layers.core.Flatten object at 0x7fb6f12b4c88>            ...  True          \n",
              "\n",
              "[20 rows x 3 columns]"
            ]
          },
          "metadata": {
            "tags": []
          },
          "execution_count": 43
        }
      ]
    },
    {
      "cell_type": "code",
      "metadata": {
        "id": "dq5YQnq9Ylkw",
        "colab_type": "code",
        "colab": {}
      },
      "source": [
        "train_datagen = ImageDataGenerator(rescale=1./255, zoom_range=0.3, rotation_range=50,\n",
        "                                   width_shift_range=0.2, height_shift_range=0.2, shear_range=0.2, \n",
        "                                   horizontal_flip=True, fill_mode='nearest')\n",
        "\n",
        "val_datagen = ImageDataGenerator(rescale=1./255)\n",
        "\n",
        "train_generator = train_datagen.flow(train_x, train_y, batch_size=30)\n",
        "val_generator = val_datagen.flow(val_x, val_y, batch_size=20)"
      ],
      "execution_count": 0,
      "outputs": []
    },
    {
      "cell_type": "code",
      "metadata": {
        "id": "0deLbhAGYrk4",
        "colab_type": "code",
        "colab": {
          "base_uri": "https://localhost:8080/",
          "height": 353
        },
        "outputId": "32daaba2-cb47-408a-a05f-daf672eb9f89"
      },
      "source": [
        "from keras.layers import Conv2D, MaxPooling2D, Flatten, Dense, Dropout, InputLayer\n",
        "from keras.models import Sequential\n",
        "from keras import optimizers\n",
        "\n",
        "model6 = Sequential()\n",
        "model6.add(vgg_model)\n",
        "model6.add(Dense(512, activation='relu', input_dim=input_shape))\n",
        "model6.add(Dropout(0.3))\n",
        "model6.add(Dense(512, activation='relu'))\n",
        "model6.add(Dropout(0.3))\n",
        "model6.add(Dense(1, activation='sigmoid'))\n",
        "\n",
        "model6.compile(loss='binary_crossentropy',\n",
        "              optimizer=optimizers.RMSprop(lr=1e-5),\n",
        "              metrics=['accuracy'])\n",
        "\n",
        "model6.summary()"
      ],
      "execution_count": 45,
      "outputs": [
        {
          "output_type": "stream",
          "text": [
            "Model: \"sequential_6\"\n",
            "_________________________________________________________________\n",
            "Layer (type)                 Output Shape              Param #   \n",
            "=================================================================\n",
            "model_1 (Model)              (None, 25088)             14714688  \n",
            "_________________________________________________________________\n",
            "dense_15 (Dense)             (None, 512)               12845568  \n",
            "_________________________________________________________________\n",
            "dropout_9 (Dropout)          (None, 512)               0         \n",
            "_________________________________________________________________\n",
            "dense_16 (Dense)             (None, 512)               262656    \n",
            "_________________________________________________________________\n",
            "dropout_10 (Dropout)         (None, 512)               0         \n",
            "_________________________________________________________________\n",
            "dense_17 (Dense)             (None, 1)                 513       \n",
            "=================================================================\n",
            "Total params: 27,823,425\n",
            "Trainable params: 26,087,937\n",
            "Non-trainable params: 1,735,488\n",
            "_________________________________________________________________\n"
          ],
          "name": "stdout"
        }
      ]
    },
    {
      "cell_type": "code",
      "metadata": {
        "id": "K3PNEbU6Yu5G",
        "colab_type": "code",
        "colab": {
          "base_uri": "https://localhost:8080/",
          "height": 722
        },
        "outputId": "590388c6-f2d7-49b4-80d6-7d1e6af4b61c"
      },
      "source": [
        "history6 = model6.fit_generator(train_generator, steps_per_epoch=100, epochs=100,\n",
        "                              validation_data=val_generator, validation_steps=50, verbose=1)"
      ],
      "execution_count": 0,
      "outputs": [
        {
          "output_type": "stream",
          "text": [
            "Epoch 1/100\n",
            "100/100 [==============================] - 40s 404ms/step - loss: 0.7003 - acc: 0.5535 - val_loss: 0.6794 - val_acc: 0.5870\n",
            "Epoch 2/100\n",
            "100/100 [==============================] - 37s 372ms/step - loss: 0.6958 - acc: 0.5714 - val_loss: 0.6770 - val_acc: 0.5912\n",
            "Epoch 3/100\n",
            "100/100 [==============================] - 37s 371ms/step - loss: 0.6900 - acc: 0.5696 - val_loss: 0.6919 - val_acc: 0.5795\n",
            "Epoch 4/100\n",
            "100/100 [==============================] - 37s 373ms/step - loss: 0.6880 - acc: 0.5684 - val_loss: 0.6733 - val_acc: 0.6000\n",
            "Epoch 5/100\n",
            "100/100 [==============================] - 37s 367ms/step - loss: 0.6847 - acc: 0.5734 - val_loss: 0.6802 - val_acc: 0.5805\n",
            "Epoch 6/100\n",
            "100/100 [==============================] - 37s 373ms/step - loss: 0.6832 - acc: 0.5765 - val_loss: 0.6787 - val_acc: 0.5890\n",
            "Epoch 7/100\n",
            "100/100 [==============================] - 37s 371ms/step - loss: 0.6832 - acc: 0.5690 - val_loss: 0.6776 - val_acc: 0.5881\n",
            "Epoch 8/100\n",
            "100/100 [==============================] - 37s 373ms/step - loss: 0.6828 - acc: 0.5806 - val_loss: 0.6772 - val_acc: 0.5890\n",
            "Epoch 9/100\n",
            "100/100 [==============================] - 38s 378ms/step - loss: 0.6808 - acc: 0.5816 - val_loss: 0.6820 - val_acc: 0.5868\n",
            "Epoch 10/100\n",
            "100/100 [==============================] - 38s 376ms/step - loss: 0.6832 - acc: 0.5770 - val_loss: 0.6809 - val_acc: 0.5838\n",
            "Epoch 11/100\n",
            "100/100 [==============================] - 37s 367ms/step - loss: 0.6851 - acc: 0.5795 - val_loss: 0.6788 - val_acc: 0.5912\n",
            "Epoch 12/100\n",
            "100/100 [==============================] - 37s 374ms/step - loss: 0.6825 - acc: 0.5844 - val_loss: 0.6790 - val_acc: 0.5903\n",
            "Epoch 13/100\n",
            "100/100 [==============================] - 38s 375ms/step - loss: 0.6831 - acc: 0.5824 - val_loss: 0.6792 - val_acc: 0.5901\n",
            "Epoch 14/100\n",
            "100/100 [==============================] - 37s 371ms/step - loss: 0.6826 - acc: 0.5867 - val_loss: 0.6778 - val_acc: 0.5892\n",
            "Epoch 15/100\n",
            "100/100 [==============================] - 37s 370ms/step - loss: 0.6831 - acc: 0.5852 - val_loss: 0.6792 - val_acc: 0.5835\n",
            "Epoch 16/100\n",
            "100/100 [==============================] - 37s 370ms/step - loss: 0.6807 - acc: 0.5863 - val_loss: 0.6773 - val_acc: 0.5892\n",
            "Epoch 17/100\n",
            "100/100 [==============================] - 37s 374ms/step - loss: 0.6798 - acc: 0.5875 - val_loss: 0.6772 - val_acc: 0.5912\n",
            "Epoch 18/100\n",
            "100/100 [==============================] - 38s 377ms/step - loss: 0.6810 - acc: 0.5834 - val_loss: 0.6796 - val_acc: 0.5824\n",
            "Epoch 19/100\n",
            "100/100 [==============================] - 37s 373ms/step - loss: 0.6786 - acc: 0.5854 - val_loss: 0.6769 - val_acc: 0.5914\n",
            "Epoch 20/100\n",
            "100/100 [==============================] - 37s 372ms/step - loss: 0.6816 - acc: 0.5853 - val_loss: 0.6784 - val_acc: 0.5857\n",
            "Epoch 21/100\n",
            " 40/100 [===========>..................] - ETA: 16s - loss: 0.6760 - acc: 0.5928"
          ],
          "name": "stdout"
        }
      ]
    },
    {
      "cell_type": "code",
      "metadata": {
        "id": "y7OphRxCYyea",
        "colab_type": "code",
        "colab": {}
      },
      "source": [
        "f, (ax1, ax2) = plt.subplots(1, 2, figsize=(12, 4))\n",
        "t = f.suptitle('Pre-trained CNN (Transfer Learning) with Fine-Tuning & Image Augmentation Performance', fontsize=12)\n",
        "f.subplots_adjust(top=0.85, wspace=0.3)\n",
        "\n",
        "epoch_list = list(range(1,101))\n",
        "ax1.plot(epoch_list, history6.history['acc'], label='Train Accuracy')\n",
        "ax1.plot(epoch_list, history6.history['val_acc'], label='Validation Accuracy')\n",
        "ax1.set_xticks(np.arange(0, 101, 10))\n",
        "ax1.set_ylabel('Accuracy Value')\n",
        "ax1.set_xlabel('Epoch')\n",
        "ax1.set_title('Accuracy')\n",
        "l1 = ax1.legend(loc=\"best\")\n",
        "\n",
        "ax2.plot(epoch_list, history6.history['loss'], label='Train Loss')\n",
        "ax2.plot(epoch_list, history6.history['val_loss'], label='Validation Loss')\n",
        "ax2.set_xticks(np.arange(0, 101, 10))\n",
        "ax2.set_ylabel('Loss Value')\n",
        "ax2.set_xlabel('Epoch')\n",
        "ax2.set_title('Loss')\n",
        "l2 = ax2.legend(loc=\"best\")"
      ],
      "execution_count": 0,
      "outputs": []
    },
    {
      "cell_type": "code",
      "metadata": {
        "id": "mPkctHjkY4lc",
        "colab_type": "code",
        "colab": {}
      },
      "source": [
        "model6.save('emergency_non_tlearn_finetune_img_aug_cnn.h5')"
      ],
      "execution_count": 0,
      "outputs": []
    },
    {
      "cell_type": "code",
      "metadata": {
        "id": "Tpo6frJ8Y7bK",
        "colab_type": "code",
        "colab": {}
      },
      "source": [
        ""
      ],
      "execution_count": 0,
      "outputs": []
    }
  ]
}